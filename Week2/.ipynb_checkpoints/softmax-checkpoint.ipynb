{
 "cells": [
  {
   "cell_type": "markdown",
   "metadata": {},
   "source": [
    "# Softmax exercise\n",
    "\n",
    "\n",
    "In this exercise you will:\n",
    "\n",
    "- implement a fully-vectorized **loss function** for the Softmax classifier\n",
    "- implement the fully-vectorized expression for its **analytic gradient**\n",
    "- **check your implementation** with numerical gradient\n",
    "- use a validation set to **tune the learning rate \n",
    "- **optimize** the loss function with **SGD**\n",
    "- **visualize** the final learned weights\n",
    "\n",
    "\n",
    "If you are not using a linux-computer at IFI, go to in5400/datasets and download the data as described in the knn-notebook.\n"
   ]
  },
  {
   "cell_type": "code",
   "execution_count": 8,
   "metadata": {},
   "outputs": [
    {
     "name": "stdout",
     "output_type": "stream",
     "text": [
      "The autoreload extension is already loaded. To reload it, use:\n",
      "  %reload_ext autoreload\n"
     ]
    }
   ],
   "source": [
    "import random\n",
    "import numpy as np\n",
    "from in5400.data_utils import load_CIFAR10\n",
    "import matplotlib.pyplot as plt\n",
    "\n",
    "\n",
    "\n",
    "\n",
    "%matplotlib inline\n",
    "\n",
    "plt.rcParams['figure.figsize'] = (10.0, 8.0) # set default size of plots\n",
    "plt.rcParams['image.interpolation'] = 'nearest'\n",
    "plt.rcParams['image.cmap'] = 'gray'\n",
    "\n",
    "# for auto-reloading extenrnal modules\n",
    "# see http://stackoverflow.com/questions/1907993/autoreload-of-modules-in-ipython\n",
    "%load_ext autoreload\n",
    "%autoreload 2"
   ]
  },
  {
   "cell_type": "code",
   "execution_count": 9,
   "metadata": {},
   "outputs": [
    {
     "name": "stdout",
     "output_type": "stream",
     "text": [
      "Train data shape:  (49000, 3073)\n",
      "Train labels shape:  (49000,)\n",
      "Validation data shape:  (1000, 3073)\n",
      "Validation labels shape:  (1000,)\n",
      "Test data shape:  (1000, 3073)\n",
      "Test labels shape:  (1000,)\n",
      "dev data shape:  (500, 3073)\n",
      "dev labels shape:  (500,)\n"
     ]
    }
   ],
   "source": [
    "def get_CIFAR10_data(num_training=49000, num_validation=1000, num_test=1000, num_dev=500):\n",
    "    \"\"\"\n",
    "    Load the CIFAR-10 dataset from disk and perform preprocessing to prepare\n",
    "    it for the linear classifier.  \n",
    "    \"\"\"\n",
    "    # Load the raw CIFAR-10 data\n",
    "    cifar10_dir = 'in5400/datasets/cifar-10-batches-py'\n",
    "    #cifar10_dir = '/projects/in5400/CIFAR-10/cifar-10-batches-py'\n",
    "    \n",
    "    X_train, y_train, X_test, y_test = load_CIFAR10(cifar10_dir)\n",
    "    \n",
    "    # subsample the data to use the split the training data into a training and a validation subset\n",
    "    mask = list(range(num_training, num_training + num_validation))\n",
    "    X_val = X_train[mask]\n",
    "    y_val = y_train[mask]\n",
    "    mask = list(range(num_training))\n",
    "    X_train = X_train[mask]\n",
    "    y_train = y_train[mask]\n",
    "    mask = list(range(num_test))\n",
    "    X_test = X_test[mask]\n",
    "    y_test = y_test[mask]\n",
    "    mask = np.random.choice(num_training, num_dev, replace=False)\n",
    "    X_dev = X_train[mask]\n",
    "    y_dev = y_train[mask]\n",
    "    \n",
    "    # Preprocessing: reshape the image data into rows\n",
    "    X_train = np.reshape(X_train, (X_train.shape[0], -1))\n",
    "    X_val = np.reshape(X_val, (X_val.shape[0], -1))\n",
    "    X_test = np.reshape(X_test, (X_test.shape[0], -1))\n",
    "    X_dev = np.reshape(X_dev, (X_dev.shape[0], -1))\n",
    "    \n",
    "    # Normalize the data: subtract the mean image\n",
    "    mean_image = np.mean(X_train, axis = 0)\n",
    "    X_train -= mean_image\n",
    "    X_val -= mean_image\n",
    "    X_test -= mean_image\n",
    "    X_dev -= mean_image\n",
    "    \n",
    "    # add bias dimension and transform into columns\n",
    "    X_train = np.hstack([X_train, np.ones((X_train.shape[0], 1))])\n",
    "    X_val = np.hstack([X_val, np.ones((X_val.shape[0], 1))])\n",
    "    X_test = np.hstack([X_test, np.ones((X_test.shape[0], 1))])\n",
    "    X_dev = np.hstack([X_dev, np.ones((X_dev.shape[0], 1))])\n",
    "    \n",
    "    return X_train, y_train, X_val, y_val, X_test, y_test, X_dev, y_dev\n",
    "\n",
    "\n",
    "# Invoke the above function to get our data.\n",
    "X_train, y_train, X_val, y_val, X_test, y_test, X_dev, y_dev = get_CIFAR10_data()\n",
    "print('Train data shape: ', X_train.shape)\n",
    "print('Train labels shape: ', y_train.shape)\n",
    "print('Validation data shape: ', X_val.shape)\n",
    "print('Validation labels shape: ', y_val.shape)\n",
    "print('Test data shape: ', X_test.shape)\n",
    "print('Test labels shape: ', y_test.shape)\n",
    "print('dev data shape: ', X_dev.shape)\n",
    "print('dev labels shape: ', y_dev.shape)"
   ]
  },
  {
   "cell_type": "markdown",
   "metadata": {},
   "source": [
    "## Softmax Classifier\n",
    "\n",
    "Your code for this section will all be written inside **in5400/classifiers/softmax.py**. \n",
    "The loss for one sample is \n",
    "$L_i = -\\log\\left(\\frac{e^{f_{y_i}}}{ \\sum_j e^{f_j} }\\right) \\hspace{0.5in}$\n",
    "\n",
    "You should sum over all samples"
   ]
  },
  {
   "cell_type": "code",
   "execution_count": 10,
   "metadata": {},
   "outputs": [
    {
     "name": "stdout",
     "output_type": "stream",
     "text": [
      "loss: 2.354750\n",
      "sanity check: 2.302585\n"
     ]
    }
   ],
   "source": [
    "# First implement the naive softmax loss function with nested loops.\n",
    "# Open the file inf5860/classifiers/softmax.py and implement the\n",
    "# softmax_loss_naive function.\n",
    "\n",
    "from in5400.classifiers.softmax import softmax_loss_naive\n",
    "import time\n",
    "\n",
    "# Generate a random softmax weight matrix and use it to compute the loss.\n",
    "W = np.random.randn(3073, 10) * 0.0001\n",
    "loss, grad = softmax_loss_naive(W, X_dev, y_dev)\n",
    "\n",
    "# As a rough sanity check, our loss should be something close to -log(0.1).\n",
    "print('loss: %f' % loss)\n",
    "print('sanity check: %f' % (-np.log(0.1)))"
   ]
  },
  {
   "cell_type": "markdown",
   "metadata": {},
   "source": [
    "## Inline Question 1:\n",
    "\n",
    "To answer inline questions: double click on this cell and you will be able to edit it. Fill in your text answer below.\n",
    "\n",
    "Why do we expect our loss to be close to -log(0.1)? Explain briefly.**\n",
    "\n",
    "**Your answer:** *Fill this in*\n"
   ]
  },
  {
   "cell_type": "code",
   "execution_count": 11,
   "metadata": {},
   "outputs": [
    {
     "name": "stdout",
     "output_type": "stream",
     "text": [
      "numerical: -0.495431 analytic: -0.495431, relative error: 1.717812e-08\n",
      "numerical: -1.045913 analytic: -1.045913, relative error: 1.674766e-08\n",
      "numerical: 0.423299 analytic: 0.423299, relative error: 5.445584e-08\n",
      "numerical: -2.210292 analytic: -2.210292, relative error: 5.975708e-09\n",
      "numerical: 1.471978 analytic: 1.471978, relative error: 1.831461e-08\n",
      "numerical: -0.777857 analytic: -0.777857, relative error: 1.533542e-08\n",
      "numerical: 0.435280 analytic: 0.435279, relative error: 2.353882e-08\n",
      "numerical: 1.156390 analytic: 1.156390, relative error: 4.543092e-08\n",
      "numerical: 0.019031 analytic: 0.019031, relative error: 1.028635e-07\n",
      "numerical: 2.019733 analytic: 2.019733, relative error: 1.987878e-08\n"
     ]
    }
   ],
   "source": [
    "# Complete the implementation of softmax_loss_naive and implement a (naive)\n",
    "# version of the gradient that uses nested loops.\n",
    "loss, grad = softmax_loss_naive(W, X_dev, y_dev)\n",
    "\n",
    "# Use numeric gradient checking as a debugging tool.\n",
    "# The numeric gradient should be close to the analytic gradient.\n",
    "from in5400.gradient_check import grad_check_sparse\n",
    "f = lambda w: softmax_loss_naive(w, X_dev, y_dev)[0]\n",
    "grad_numerical = grad_check_sparse(f, W, grad, 10)\n",
    "\n"
   ]
  },
  {
   "cell_type": "markdown",
   "metadata": {},
   "source": [
    "Since the numbers are small, the gradient are also small, and your difference should also be very small, arbound e-07 or smaller"
   ]
  },
  {
   "cell_type": "code",
   "execution_count": 12,
   "metadata": {},
   "outputs": [
    {
     "name": "stdout",
     "output_type": "stream",
     "text": [
      "naive loss: 2.354750e+00 computed in 0.398908s\n",
      "vectorized loss: 2.354750e+00 computed in 0.013494s\n",
      "Loss difference: 0.000000\n",
      "Gradient difference: 0.000000\n"
     ]
    }
   ],
   "source": [
    "# Now that we have a naive implementation of the softmax loss function and its gradient,\n",
    "# implement a vectorized version in softmax_loss_vectorized.\n",
    "# The two versions should compute the same results, but the vectorized version should be\n",
    "# much faster.\n",
    "tic = time.time()\n",
    "loss_naive, grad_naive = softmax_loss_naive(W, X_dev, y_dev)\n",
    "toc = time.time()\n",
    "print('naive loss: %e computed in %fs' % (loss_naive, toc - tic))\n",
    "\n",
    "from in5400.classifiers.softmax import softmax_loss_vectorized\n",
    "tic = time.time()\n",
    "loss_vectorized, grad_vectorized = softmax_loss_vectorized(W, X_dev, y_dev)\n",
    "toc = time.time()\n",
    "print('vectorized loss: %e computed in %fs' % (loss_vectorized, toc - tic))\n",
    "\n",
    "\n",
    "grad_difference = np.linalg.norm(grad_naive - grad_vectorized, ord='fro')\n",
    "print('Loss difference: %f' % np.abs(loss_naive - loss_vectorized))\n",
    "print('Gradient difference: %f' % grad_difference)"
   ]
  },
  {
   "cell_type": "markdown",
   "metadata": {},
   "source": [
    "The difference in loss should be smaller than 0.1, and the gradient difference close to 0. \n"
   ]
  },
  {
   "cell_type": "code",
   "execution_count": 13,
   "metadata": {},
   "outputs": [
    {
     "name": "stdout",
     "output_type": "stream",
     "text": [
      "iteration 0 / 1000: loss 5.353118\n",
      "iteration 100 / 1000: loss 4.140006\n",
      "iteration 200 / 1000: loss 3.518476\n",
      "iteration 300 / 1000: loss 3.187810\n",
      "iteration 400 / 1000: loss 3.435325\n",
      "iteration 500 / 1000: loss 3.294638\n",
      "iteration 600 / 1000: loss 3.100281\n",
      "iteration 700 / 1000: loss 2.765883\n",
      "iteration 800 / 1000: loss 3.041313\n",
      "iteration 900 / 1000: loss 2.852803\n",
      "iteration 0 / 1000: loss 5.591762\n",
      "iteration 100 / 1000: loss 3.554211\n",
      "iteration 200 / 1000: loss 3.055510\n",
      "iteration 300 / 1000: loss 3.007691\n",
      "iteration 400 / 1000: loss 2.892876\n",
      "iteration 500 / 1000: loss 2.993076\n",
      "iteration 600 / 1000: loss 2.717059\n",
      "iteration 700 / 1000: loss 2.637601\n",
      "iteration 800 / 1000: loss 2.378707\n",
      "iteration 900 / 1000: loss 2.623291\n",
      "iteration 0 / 1000: loss 5.724282\n",
      "iteration 100 / 1000: loss 3.651592\n",
      "iteration 200 / 1000: loss 3.022451\n",
      "iteration 300 / 1000: loss 2.573463\n",
      "iteration 400 / 1000: loss 2.542015\n",
      "iteration 500 / 1000: loss 2.543155\n",
      "iteration 600 / 1000: loss 2.298494\n",
      "iteration 700 / 1000: loss 2.447133\n",
      "iteration 800 / 1000: loss 2.349398\n",
      "iteration 900 / 1000: loss 2.253291\n",
      "iteration 0 / 1000: loss 5.055101\n",
      "iteration 100 / 1000: loss 3.422369\n",
      "iteration 200 / 1000: loss 2.932939\n",
      "iteration 300 / 1000: loss 2.507950\n",
      "iteration 400 / 1000: loss 2.635948\n",
      "iteration 500 / 1000: loss 2.464541\n",
      "iteration 600 / 1000: loss 2.420091\n",
      "iteration 700 / 1000: loss 2.393686\n",
      "iteration 800 / 1000: loss 2.426641\n",
      "iteration 900 / 1000: loss 2.137449\n",
      "iteration 0 / 1000: loss 5.992945\n",
      "iteration 100 / 1000: loss 3.110373\n",
      "iteration 200 / 1000: loss 2.680494\n",
      "iteration 300 / 1000: loss 2.481292\n",
      "iteration 400 / 1000: loss 2.454927\n",
      "iteration 500 / 1000: loss 2.454233\n",
      "iteration 600 / 1000: loss 2.373272\n",
      "iteration 700 / 1000: loss 2.140471\n",
      "iteration 800 / 1000: loss 2.218879\n",
      "iteration 900 / 1000: loss 2.246311\n",
      "lr 1.000000e-07 train accuracy: 0.238245 val accuracy: 0.247000\n",
      "lr 2.000000e-07 train accuracy: 0.265224 val accuracy: 0.250000\n",
      "lr 3.000000e-07 train accuracy: 0.278898 val accuracy: 0.275000\n",
      "lr 4.000000e-07 train accuracy: 0.289816 val accuracy: 0.303000\n",
      "lr 5.000000e-07 train accuracy: 0.301082 val accuracy: 0.298000\n",
      "best validation accuracy achieved during cross-validation: 0.303000\n"
     ]
    }
   ],
   "source": [
    "# Use the validation set to tune hyperparameters # learning rate). You should experiment with different ranges for the learning\n",
    "# rates; if you are careful you should be able to\n",
    "# get a classification accuracy of 30% on the validation set.\n",
    "from in5400.classifiers import Softmax\n",
    "results = {}\n",
    "best_val = -1\n",
    "best_lr = 0\n",
    "best_softmax = None\n",
    "learning_rates = [1e-7, 5e-7]\n",
    "\n",
    "\n",
    "################################################################################\n",
    "# TODO:                                                                        #\n",
    "# Use the validation set to set the learning rate and regularization strength. #\n",
    "# This should be identical to the validation that you did for the SVM; save    #\n",
    "# the best trained softmax classifer in best_softmax.                          #\n",
    "################################################################################\n",
    "for lr in np.linspace(learning_rates[0], learning_rates[1], 5):\n",
    "    \n",
    "        softmax = Softmax()\n",
    "        loss_hist = softmax.train(X_train, y_train, learning_rate=lr, num_iters=1000, verbose=True)        \n",
    "        y_train_acc = (softmax.predict(X_train) == y_train).mean()\n",
    "        y_val_acc = (softmax.predict(X_val) == y_val).mean()\n",
    "        results[(lr)] = (y_train_acc, y_val_acc)\n",
    "        if y_val_acc > best_val:\n",
    "            best_val = y_val_acc\n",
    "            best_softmax = softmax\n",
    "            best_lr = lr\n",
    "            \n",
    "################################################################################\n",
    "#                              END OF YOUR CODE                                #\n",
    "################################################################################\n",
    "    \n",
    "# Print out results.\n",
    "for lr  in sorted(results):\n",
    "    train_accuracy, val_accuracy = results[(lr)]\n",
    "    print('lr %e train accuracy: %f val accuracy: %f' % (\n",
    "                lr,  train_accuracy, val_accuracy))\n",
    "    \n",
    "print('best validation accuracy achieved during cross-validation: %f' % best_val)\n",
    "print('Best learning rate:',best_lr,' best accuracy:',best_val)\n",
    "\n"
   ]
  },
  {
   "cell_type": "code",
   "execution_count": 14,
   "metadata": {},
   "outputs": [
    {
     "name": "stdout",
     "output_type": "stream",
     "text": [
      "softmax on raw pixels final test set accuracy: 0.299000\n"
     ]
    }
   ],
   "source": [
    "# evaluate on test set\n",
    "# Evaluate the best softmax on test set\n",
    "y_test_pred = softmax.predict(X_test)\n",
    "test_accuracy = np.mean(y_test == y_test_pred)\n",
    "print('softmax on raw pixels final test set accuracy: %f' % (test_accuracy, ))"
   ]
  },
  {
   "cell_type": "code",
   "execution_count": 15,
   "metadata": {},
   "outputs": [
    {
     "data": {
      "image/png": "[encoded data removed]",
      "text/plain": [
       "<Figure size 720x576 with 10 Axes>"
      ]
     },
     "metadata": {
      "needs_background": "light"
     },
     "output_type": "display_data"
    }
   ],
   "source": [
    "# Visualize the learned weights for each class\n",
    "w = best_softmax.W[:-1,:] # strip out the bias\n",
    "w = w.reshape(32, 32, 3, 10)\n",
    "\n",
    "w_min, w_max = np.min(w), np.max(w)\n",
    "\n",
    "classes = ['plane', 'car', 'bird', 'cat', 'deer', 'dog', 'frog', 'horse', 'ship', 'truck']\n",
    "for i in range(10):\n",
    "    plt.subplot(2, 5, i + 1)\n",
    "    \n",
    "    # Rescale the weights to be between 0 and 255\n",
    "    wimg = 255.0 * (w[:, :, :, i].squeeze() - w_min) / (w_max - w_min)\n",
    "    plt.imshow(wimg.astype('uint8'))\n",
    "    plt.axis('off')\n",
    "    plt.title(classes[i])"
   ]
  },
  {
   "cell_type": "code",
   "execution_count": null,
   "metadata": {},
   "outputs": [],
   "source": []
  }
 ],
 "metadata": {
  "kernelspec": {
   "display_name": "Python 3",
   "language": "python",
   "name": "python3"
  },
  "language_info": {
   "codemirror_mode": {
    "name": "ipython",
    "version": 3
   },
   "file_extension": ".py",
   "mimetype": "text/x-python",
   "name": "python",
   "nbconvert_exporter": "python",
   "pygments_lexer": "ipython3",
   "version": "3.6.9"
  }
 },
 "nbformat": 4,
 "nbformat_minor": 1
}
